{
 "cells": [
  {
   "cell_type": "code",
   "execution_count": 69,
   "metadata": {},
   "outputs": [
    {
     "ename": "NameError",
     "evalue": "name '__file__' is not defined",
     "output_type": "error",
     "traceback": [
      "\u001b[0;31m---------------------------------------------------------------------------\u001b[0m",
      "\u001b[0;31mNameError\u001b[0m                                 Traceback (most recent call last)",
      "\u001b[0;32m<ipython-input-69-21cb0784dd6c>\u001b[0m in \u001b[0;36m<module>\u001b[0;34m\u001b[0m\n\u001b[1;32m      9\u001b[0m \u001b[0;32mimport\u001b[0m \u001b[0msys\u001b[0m\u001b[0;34m\u001b[0m\u001b[0;34m\u001b[0m\u001b[0m\n\u001b[1;32m     10\u001b[0m \u001b[0;32mfrom\u001b[0m \u001b[0mos\u001b[0m\u001b[0;34m.\u001b[0m\u001b[0mpath\u001b[0m \u001b[0;32mimport\u001b[0m \u001b[0mdirname\u001b[0m \u001b[0;32mas\u001b[0m \u001b[0mup\u001b[0m\u001b[0;34m\u001b[0m\u001b[0;34m\u001b[0m\u001b[0m\n\u001b[0;32m---> 11\u001b[0;31m \u001b[0msys\u001b[0m\u001b[0;34m.\u001b[0m\u001b[0mpath\u001b[0m\u001b[0;34m.\u001b[0m\u001b[0minsert\u001b[0m\u001b[0;34m(\u001b[0m\u001b[0;36m0\u001b[0m\u001b[0;34m,\u001b[0m \u001b[0mup\u001b[0m\u001b[0;34m(\u001b[0m\u001b[0mup\u001b[0m\u001b[0;34m(\u001b[0m\u001b[0mup\u001b[0m\u001b[0;34m(\u001b[0m\u001b[0mos\u001b[0m\u001b[0;34m.\u001b[0m\u001b[0mpath\u001b[0m\u001b[0;34m.\u001b[0m\u001b[0mabspath\u001b[0m\u001b[0;34m(\u001b[0m\u001b[0m__file__\u001b[0m\u001b[0;34m)\u001b[0m\u001b[0;34m)\u001b[0m\u001b[0;34m)\u001b[0m\u001b[0;34m)\u001b[0m\u001b[0;34m)\u001b[0m\u001b[0;34m\u001b[0m\u001b[0;34m\u001b[0m\u001b[0m\n\u001b[0m\u001b[1;32m     12\u001b[0m \u001b[0;32mfrom\u001b[0m \u001b[0mdatasets\u001b[0m\u001b[0;34m.\u001b[0m\u001b[0mdatasets\u001b[0m \u001b[0;32mimport\u001b[0m \u001b[0mRobotNavDataset\u001b[0m\u001b[0;34m\u001b[0m\u001b[0;34m\u001b[0m\u001b[0m\n\u001b[1;32m     13\u001b[0m \u001b[0;34m\u001b[0m\u001b[0m\n",
      "\u001b[0;31mNameError\u001b[0m: name '__file__' is not defined"
     ]
    }
   ],
   "source": [
    "import numpy as np\n",
    "import torch.nn.functional as F\n",
    "import torch\n",
    "import torch.nn as nn\n",
    "from torchsummary import summary\n",
    "import matplotlib.pyplot as plt\n",
    "\n",
    "import os\n",
    "import sys \n",
    "from os.path import dirname as up\n",
    "sys.path.insert(0, up(up(up(os.path.abspath(__file__)))))\n",
    "from datasets.datasets import RobotNavDataset\n",
    "\n",
    "plt.rcParams['figure.figsize'] = [10, 5]"
   ]
  },
  {
   "cell_type": "code",
   "execution_count": 2,
   "metadata": {},
   "outputs": [],
   "source": [
    "# for now just generate some random data, don't have access to kaggle at work\n",
    "CLASSES = ['fine_concrete', 'concrete', 'soft_tiles', 'tiled', 'soft_pvc',\n",
    "           'hard_tiles_large_space', 'carpet', 'hard_tiles', 'wood']\n",
    "y_train = np.random.choice(CLASSES, size=(3810,), replace=True)\n",
    "x_train = np.random.rand(3810,10,128)"
   ]
  },
  {
   "cell_type": "code",
   "execution_count": 3,
   "metadata": {},
   "outputs": [],
   "source": [
    "class ShallowCNN(nn.Module):\n",
    "    def __init__(self):\n",
    "        super(ShallowCNN, self).__init__()\n",
    "        self.conv1 = nn.Conv2d(in_channels=1, out_channels=40, kernel_size=(1,10))\n",
    "        self.conv2 = nn.Conv2d(in_channels=40, out_channels=40, kernel_size=(10,1))\n",
    "        self.conv2_bn = nn.BatchNorm2d(40)\n",
    "        self.max_pool = nn.MaxPool2d(kernel_size=(1,25), stride=(1,5))\n",
    "        self.linear = nn.Linear(in_features=40*19, out_features=10)\n",
    "        \n",
    "    def forward(self, x):\n",
    "        x = self.conv1(x)\n",
    "        x = self.conv2(x)\n",
    "        x = F.elu(self.conv2_bn(x))\n",
    "        x = x.view((-1,40,119))\n",
    "        x = self.max_pool(x)\n",
    "        x = x.view((x.size(0), -1))\n",
    "        x = self.linear(x)\n",
    "        return x"
   ]
  },
  {
   "cell_type": "code",
   "execution_count": null,
   "metadata": {},
   "outputs": [],
   "source": [
    "'''\n",
    "class ShallowCNN(nn.Module):\n",
    "    def __init__(self, n_conv_channels=40, \n",
    "                 n_signal_channels=10, \n",
    "                 pool_size=25, \n",
    "                 pool_stride=15,\n",
    "                 n_out=10):\n",
    "        \n",
    "        super(ShallowCNN, self).__init__()\n",
    "        \n",
    "        self.conv1 = nn.Conv2d(in_channels=1, \n",
    "                               out_channels=n_conv_channels, \n",
    "                               kernel_size=(1,n_signal_channels))\n",
    "        \n",
    "        self.conv2 = nn.Conv2d(in_channels=n_conv_channels, \n",
    "                               out_channels=n_conv_channels, \n",
    "                               kernel_size=(n_signal_channels,1))\n",
    "        \n",
    "        self.conv2_bn = nn.BatchNorm2d(n_signal_channels)\n",
    "        \n",
    "        self.max_pool = nn.MaxPool2d(kernel_size=(1,pool_size), stride=(1,pool_stride))\n",
    "        # Need to determine how to calculate 7\n",
    "        self.linear = nn.Linear(in_features=40*7, out_features=n_out)\n",
    "        \n",
    "    def forward(self, x):\n",
    "        x = self.conv1(x)\n",
    "        x = self.conv2(x)\n",
    "        x = F.elu(self.conv2_bn(x))\n",
    "        # need to determine how to calculate this size\n",
    "        x = x.view((-1,40,119))\n",
    "        x = self.max_pool(x)\n",
    "        x = x.view((x.size(0), -1))\n",
    "        x = self.linear(x)\n",
    "        return x\n",
    "'''"
   ]
  },
  {
   "cell_type": "code",
   "execution_count": 5,
   "metadata": {},
   "outputs": [],
   "source": [
    "foo = ShallowCNN()\n",
    "# foo.cuda()"
   ]
  },
  {
   "cell_type": "code",
   "execution_count": 6,
   "metadata": {},
   "outputs": [
    {
     "name": "stdout",
     "output_type": "stream",
     "text": [
      "----------------------------------------------------------------\n",
      "        Layer (type)               Output Shape         Param #\n",
      "================================================================\n",
      "            Conv2d-1          [-1, 40, 10, 119]             440\n",
      "            Conv2d-2           [-1, 40, 1, 119]          16,040\n",
      "       BatchNorm2d-3           [-1, 40, 1, 119]              80\n",
      "         MaxPool2d-4               [-1, 40, 19]               0\n",
      "            Linear-5                   [-1, 10]           7,610\n",
      "================================================================\n",
      "Total params: 24,170\n",
      "Trainable params: 24,170\n",
      "Non-trainable params: 0\n",
      "----------------------------------------------------------------\n",
      "Input size (MB): 0.00\n",
      "Forward/backward pass size (MB): 0.44\n",
      "Params size (MB): 0.09\n",
      "Estimated Total Size (MB): 0.54\n",
      "----------------------------------------------------------------\n"
     ]
    }
   ],
   "source": [
    "summary(foo, input_size=x_train[0:1].shape)"
   ]
  },
  {
   "cell_type": "code",
   "execution_count": null,
   "metadata": {},
   "outputs": [],
   "source": [
    "def get_data_loader(batchsize, file_dir)"
   ]
  },
  {
   "cell_type": "code",
   "execution_count": null,
   "metadata": {},
   "outputs": [],
   "source": []
  },
  {
   "cell_type": "code",
   "execution_count": 82,
   "metadata": {},
   "outputs": [],
   "source": [
    "import torchvision.datasets as datasets"
   ]
  },
  {
   "cell_type": "code",
   "execution_count": 83,
   "metadata": {},
   "outputs": [
    {
     "name": "stdout",
     "output_type": "stream",
     "text": [
      "Downloading http://yann.lecun.com/exdb/mnist/train-images-idx3-ubyte.gz\n",
      "Downloading http://yann.lecun.com/exdb/mnist/train-labels-idx1-ubyte.gz\n",
      "Downloading http://yann.lecun.com/exdb/mnist/t10k-images-idx3-ubyte.gz\n",
      "Downloading http://yann.lecun.com/exdb/mnist/t10k-labels-idx1-ubyte.gz\n",
      "Processing...\n",
      "Done!\n"
     ]
    }
   ],
   "source": [
    "mnist_trainset = datasets.MNIST(root='./data', train=True, download=True, transform=None)"
   ]
  },
  {
   "cell_type": "code",
   "execution_count": 86,
   "metadata": {},
   "outputs": [
    {
     "data": {
      "text/plain": [
       "torch.Size([60000])"
      ]
     },
     "execution_count": 86,
     "metadata": {},
     "output_type": "execute_result"
    }
   ],
   "source": [
    "mnist_trainset.train_labels.shape"
   ]
  },
  {
   "cell_type": "code",
   "execution_count": 62,
   "metadata": {},
   "outputs": [],
   "source": [
    "import pandas as pd\n",
    "import torch\n",
    "import numpy as np \n",
    "from os.path import join\n",
    "from torch.utils.data import Dataset, DataLoader\n",
    "from sklearn.preprocessing import LabelEncoder, scale\n",
    "from functools import partial\n",
    "\n",
    "\n",
    "\n",
    "X_TRAIN = 'X_train.csv'\n",
    "X_TEST = 'X_test.csv'\n",
    "Y_TRAIN = 'y_train.csv'\n",
    "\n",
    "FEATURE_COLS = ['orientation_X',\n",
    "                'orientation_Y', 'orientation_Z', 'orientation_W', 'angular_velocity_X',\n",
    "                'angular_velocity_Y', 'angular_velocity_Z', 'linear_acceleration_X',\n",
    "                'linear_acceleration_Y', 'linear_acceleration_Z']\n",
    "\n",
    "\n",
    "def x_to_array(df, feature_cols=FEATURE_COLS):\n",
    "    # Convert tabular data into 3D numpy array\n",
    "    n_series = len(df.series_id.unique())\n",
    "    n_features = len(feature_cols)\n",
    "    n_samples = max(df.measurement_number+1)\n",
    "    x_trans = np.empty((n_series, n_features, n_samples))\n",
    "    for i, idee in enumerate(df.series_id.unique()):\n",
    "        x_trans[i] = np.array(df[df.series_id == idee][feature_cols]).T\n",
    "    return x_trans\n",
    "    \n",
    "\n",
    "def load_and_format_data(path):\n",
    "    x_train = pd.read_csv(join(path,X_TRAIN))\n",
    "    x_test = pd.read_csv(join(path,X_TEST))\n",
    "    y_train = pd.read_csv(join(path,Y_TRAIN))\n",
    "\n",
    "    x_test = x_to_array(x_test)\n",
    "    x_train = x_to_array(x_train)\n",
    "    y_train = y_train.surface # for now just return unencoded values, let Tensorflow take care of this\n",
    "\n",
    "    return x_train, y_train, x_test\n",
    "\n",
    "\n",
    "class RobotNavDataset(Dataset):\n",
    "    # TODO add transformations here\n",
    "    # TODO add option to one hot labels\n",
    "    def __init__(self, path_dir, normalize=True):\n",
    "        self.normalize = normalize\n",
    "        self.train, self.labels, self.test = self.load_and_format_data(path_dir)\n",
    "        \n",
    "    def load_and_format_data(self, path):\n",
    "        x_train = pd.read_csv(join(path,X_TRAIN))\n",
    "        x_test = pd.read_csv(join(path,X_TEST))\n",
    "        y_train = pd.read_csv(join(path,Y_TRAIN))\n",
    "\n",
    "        x_test = x_to_array(x_test)\n",
    "        x_train = x_to_array(x_train)\n",
    "        \n",
    "        if self.normalize:\n",
    "            scale_trans = partial(scale, axis=1) # Find better way to do this\n",
    "            x_train = np.array([scale_trans(samp) for samp in x_train])\n",
    "            x_test = np.array([scale_trans(samp) for samp in x_test])\n",
    "        \n",
    "        y_train = y_train.surface # for now just return unencoded values, let Tensorflow take care of this\n",
    "        y_train = LabelEncoder().fit_transform(y_train)\n",
    "\n",
    "        return torch.tensor(x_train), torch.tensor(y_train), torch.tensor(x_test)\n",
    "        "
   ]
  },
  {
   "cell_type": "code",
   "execution_count": 63,
   "metadata": {},
   "outputs": [],
   "source": [
    "data = RobotNavDataset('../../data/')\n"
   ]
  },
  {
   "cell_type": "code",
   "execution_count": 64,
   "metadata": {},
   "outputs": [
    {
     "data": {
      "text/plain": [
       "torch.Size([3810, 10, 128])"
      ]
     },
     "execution_count": 64,
     "metadata": {},
     "output_type": "execute_result"
    }
   ],
   "source": [
    "data.train.shape"
   ]
  },
  {
   "cell_type": "code",
   "execution_count": 67,
   "metadata": {},
   "outputs": [],
   "source": [
    "samp = data.train[5]"
   ]
  },
  {
   "cell_type": "code",
   "execution_count": 68,
   "metadata": {},
   "outputs": [
    {
     "data": {
      "text/plain": [
       "<matplotlib.image.AxesImage at 0x7f863ef9a710>"
      ]
     },
     "execution_count": 68,
     "metadata": {},
     "output_type": "execute_result"
    },
    {
     "data": {
      "image/png": "[encoded data removed]",
      "text/plain": [
       "<Figure size 720x360 with 1 Axes>"
      ]
     },
     "metadata": {
      "needs_background": "light"
     },
     "output_type": "display_data"
    }
   ],
   "source": [
    "plt.imshow(samp.numpy())"
   ]
  },
  {
   "cell_type": "code",
   "execution_count": 46,
   "metadata": {},
   "outputs": [],
   "source": [
    "foo = samp.numpy()"
   ]
  },
  {
   "cell_type": "code",
   "execution_count": 47,
   "metadata": {},
   "outputs": [],
   "source": [
    "bar = scale(foo, axis=1)"
   ]
  },
  {
   "cell_type": "code",
   "execution_count": 48,
   "metadata": {},
   "outputs": [
    {
     "data": {
      "text/plain": [
       "<matplotlib.image.AxesImage at 0x7f8637e71978>"
      ]
     },
     "execution_count": 48,
     "metadata": {},
     "output_type": "execute_result"
    },
    {
     "data": {
      "image/png": "[encoded data removed]",
      "text/plain": [
       "<Figure size 720x360 with 1 Axes>"
      ]
     },
     "metadata": {
      "needs_background": "light"
     },
     "output_type": "display_data"
    }
   ],
   "source": [
    "plt.imshow(bar)"
   ]
  },
  {
   "cell_type": "code",
   "execution_count": 39,
   "metadata": {},
   "outputs": [
    {
     "data": {
      "text/plain": [
       "tensor([-0.0919, -0.0887, -0.0822, -0.0951, -0.0983, -0.0980, -0.0888, -0.0811,\n",
       "        -0.0720, -0.0830, -0.1056, -0.1062, -0.0885, -0.0744, -0.0769, -0.0914,\n",
       "        -0.1114, -0.1179, -0.0901, -0.0644, -0.0590, -0.0815, -0.0913, -0.0924,\n",
       "        -0.0809, -0.0814, -0.0866, -0.0894, -0.0896, -0.0917, -0.0926, -0.1052,\n",
       "        -0.0876, -0.0782, -0.0752, -0.0811, -0.0818, -0.0829, -0.0914, -0.1000,\n",
       "        -0.0902, -0.0956, -0.0960, -0.0808, -0.0862, -0.0877, -0.0970, -0.0930,\n",
       "        -0.0683, -0.0641, -0.0784, -0.0936, -0.0909, -0.0818, -0.0818, -0.0825,\n",
       "        -0.0919, -0.0993, -0.0988, -0.0999, -0.0878, -0.0742, -0.0752, -0.0835,\n",
       "        -0.0896, -0.0923, -0.0921, -0.0888, -0.0866, -0.0942, -0.0993, -0.0913,\n",
       "        -0.0921, -0.0995, -0.0934, -0.0918, -0.0946, -0.0789, -0.0710, -0.0756,\n",
       "        -0.0891, -0.0883, -0.0805, -0.0773, -0.0785, -0.0920, -0.0993, -0.0995,\n",
       "        -0.0914, -0.0840, -0.0888, -0.0839, -0.0803, -0.0781, -0.0857, -0.0897,\n",
       "        -0.0875, -0.0874, -0.0778, -0.0710, -0.0884, -0.1030, -0.0985, -0.0824,\n",
       "        -0.0758, -0.0878, -0.0936, -0.0792, -0.0755, -0.0756, -0.0917, -0.0918,\n",
       "        -0.0930, -0.0904, -0.0919, -0.0889, -0.0819, -0.0845, -0.0866, -0.0926,\n",
       "        -0.1094, -0.1034, -0.0886, -0.0647, -0.0649, -0.0940, -0.1128, -0.1008],\n",
       "       dtype=torch.float64)"
      ]
     },
     "execution_count": 39,
     "metadata": {},
     "output_type": "execute_result"
    }
   ],
   "source": [
    "bar[9,:]"
   ]
  },
  {
   "cell_type": "code",
   "execution_count": 41,
   "metadata": {},
   "outputs": [
    {
     "data": {
      "text/plain": [
       "torch.Size([10, 128])"
      ]
     },
     "execution_count": 41,
     "metadata": {},
     "output_type": "execute_result"
    }
   ],
   "source": [
    "bar.shape"
   ]
  },
  {
   "cell_type": "code",
   "execution_count": null,
   "metadata": {},
   "outputs": [],
   "source": []
  }
 ],
 "metadata": {
  "kernelspec": {
   "display_name": "Python [conda env:ml]",
   "language": "python",
   "name": "conda-env-ml-py"
  },
  "language_info": {
   "codemirror_mode": {
    "name": "ipython",
    "version": 3
   },
   "file_extension": ".py",
   "mimetype": "text/x-python",
   "name": "python",
   "nbconvert_exporter": "python",
   "pygments_lexer": "ipython3",
   "version": "3.6.8"
  }
 },
 "nbformat": 4,
 "nbformat_minor": 2
}
